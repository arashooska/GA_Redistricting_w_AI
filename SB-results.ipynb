{
 "cells": [
  {
   "cell_type": "code",
   "execution_count": 1,
   "metadata": {},
   "outputs": [],
   "source": [
    "import numpy as np\n",
    "import matplotlib.pyplot as plt\n",
    "import pickle\n",
    "import pandas as pd\n",
    "import seaborn as sns\n",
    "from gerrychain import Graph, GeographicPartition, Partition, Election, accept\n",
    "from gerrychain.updaters import Tally, cut_edges\n",
    "import glob\n",
    "import functools\n",
    "import operator"
   ]
  },
  {
   "cell_type": "code",
   "execution_count": 2,
   "metadata": {},
   "outputs": [],
   "source": [
    "def foldl(func, acc, xs):\n",
    "  return functools.reduce(func, xs, acc)\n",
    "\n",
    "foldr = lambda func, acc, xs: functools.reduce(lambda x, y: func(y, x), xs[::-1], acc)"
   ]
  },
  {
   "cell_type": "code",
   "execution_count": 3,
   "metadata": {},
   "outputs": [],
   "source": [
    "def get_state_runs(seats, iters=100000, pop_bal=2.0, min_col=\"BVAP\",\n",
    "                   ls=[2,5,10,20,40,80], ps=[0.25, 0.125, 0.0625]):\n",
    "    results = {}\n",
    "\n",
    "    for l in ls:\n",
    "        sb_runs = glob.glob(\"data/states/{}_dists{}_{}opt_{}%_100000_sbl{}_score0_*.npy\".format(\"GA\", seats, # TODO: Is it okay to pass GA here?\n",
    "                                                                                                min_col, pop_bal, l))\n",
    "        results[str(l)] = np.zeros((len(sb_runs), iters))\n",
    "        for i, run in enumerate(sb_runs):\n",
    "            results[str(l)][i] = np.load(run).flatten()\n",
    "    for p in ps:\n",
    "        tilt_runs = glob.glob(\"data/states/{}_dists{}_{}opt_{}%_100000_p{}_*.npy\".format(\"GA\", seats, \n",
    "                                                                                         min_col, pop_bal, p))\n",
    "        results[str(p)] = np.zeros((len(tilt_runs), iters))\n",
    "        for i, run in enumerate(tilt_runs):\n",
    "            results[str(p)][i] = np.load(run).flatten()\n",
    "    return results"
   ]
  },
  {
   "cell_type": "code",
   "execution_count": 4,
   "metadata": {},
   "outputs": [],
   "source": [
    "la_runs_bvap = get_state_runs(\"GA\", 105, ls=[2,5,10,25,50,100,200], pop_bal=4.5, min_col=\"BVAP\")"
   ]
  },
  {
   "cell_type": "code",
   "execution_count": 5,
   "metadata": {},
   "outputs": [],
   "source": [
    "# TODO: What is glob? what does it do? What's the path below?\n",
    "# TODO: Do we need unbiased run for short burst?\n",
    "\n",
    "ubs = glob.glob(\"data/unbiased_GA/GA_dists105_4.5%_100000_unbiased_*.p\")\n",
    "ub_runs = {}\n",
    "for i, run in enumerate(ubs):\n",
    "     with open(run, \"rb\") as f:\n",
    "        ub_runs[i] = pickle.load(f)"
   ]
  },
  {
   "cell_type": "code",
   "execution_count": 6,
   "metadata": {},
   "outputs": [
    {
     "ename": "IndexError",
     "evalue": "list index out of range",
     "output_type": "error",
     "traceback": [
      "\u001b[0;31m---------------------------------------------------------------------------\u001b[0m",
      "\u001b[0;31mIndexError\u001b[0m                                Traceback (most recent call last)",
      "Cell \u001b[0;32mIn[6], line 2\u001b[0m\n\u001b[1;32m      1\u001b[0m runs \u001b[38;5;241m=\u001b[39m \u001b[38;5;28mlist\u001b[39m(ub_runs\u001b[38;5;241m.\u001b[39mvalues())\n\u001b[0;32m----> 2\u001b[0m bvap \u001b[38;5;241m=\u001b[39m foldl(\u001b[38;5;28;01mlambda\u001b[39;00m x,y: np\u001b[38;5;241m.\u001b[39mconcatenate((x,y[\u001b[38;5;124m\"\u001b[39m\u001b[38;5;124mBVAP\u001b[39m\u001b[38;5;124m\"\u001b[39m]), axis\u001b[38;5;241m=\u001b[39m\u001b[38;5;241m0\u001b[39m), \u001b[43mruns\u001b[49m\u001b[43m[\u001b[49m\u001b[38;5;241;43m0\u001b[39;49m\u001b[43m]\u001b[49m[\u001b[38;5;124m\"\u001b[39m\u001b[38;5;124mBVAP\u001b[39m\u001b[38;5;124m\"\u001b[39m], runs[\u001b[38;5;241m1\u001b[39m:])\n",
      "\u001b[0;31mIndexError\u001b[0m: list index out of range"
     ]
    }
   ],
   "source": [
    "runs = list(ub_runs.values())\n",
    "bvap = foldl(lambda x,y: np.concatenate((x,y[\"BVAP\"]), axis=0), runs[0][\"BVAP\"], runs[1:])"
   ]
  },
  {
   "cell_type": "code",
   "execution_count": null,
   "metadata": {},
   "outputs": [],
   "source": []
  }
 ],
 "metadata": {
  "kernelspec": {
   "display_name": "Python 3.9.1 64-bit",
   "language": "python",
   "name": "python3"
  },
  "language_info": {
   "codemirror_mode": {
    "name": "ipython",
    "version": 3
   },
   "file_extension": ".py",
   "mimetype": "text/x-python",
   "name": "python",
   "nbconvert_exporter": "python",
   "pygments_lexer": "ipython3",
   "version": "3.9.1"
  },
  "orig_nbformat": 4,
  "vscode": {
   "interpreter": {
    "hash": "7812ea015bdcee6f23a998adcdd2ef97c151c0c241b7b7070987d9313e41299d"
   }
  }
 },
 "nbformat": 4,
 "nbformat_minor": 2
}
